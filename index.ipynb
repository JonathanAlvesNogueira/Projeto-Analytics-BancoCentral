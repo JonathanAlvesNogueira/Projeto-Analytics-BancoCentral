{
 "cells": [
  {
   "cell_type": "code",
   "execution_count": null,
   "metadata": {},
   "outputs": [],
   "source": [
    "import pandas as pd \n",
    "import numpy as np\n",
    "\n",
    "url = \"C:/Users/joth1/Documents/miniprojeto_pandas_sql/Nova pasta/202310Consorcios/202310Bens_Imoveis_Grupos.csv\"\n",
    "\n",
    "# Tente ler o arquivo usando utf-8 e, se falhar, tente latin-1\n",
    "try:\n",
    "    df = pd.read_csv(url, encoding='utf-8', sep=';')\n",
    "except UnicodeDecodeError:\n",
    "    df = pd.read_csv(url, encoding='latin-1', sep=';')\n",
    "\n",
    "display(df)"
   ]
  },
  {
   "cell_type": "code",
   "execution_count": null,
   "metadata": {},
   "outputs": [],
   "source": []
  }
 ],
 "metadata": {
  "kernelspec": {
   "display_name": "Python 3",
   "language": "python",
   "name": "python3"
  },
  "language_info": {
   "codemirror_mode": {
    "name": "ipython",
    "version": 3
   },
   "file_extension": ".py",
   "mimetype": "text/x-python",
   "name": "python",
   "nbconvert_exporter": "python",
   "pygments_lexer": "ipython3",
   "version": "3.12.0"
  }
 },
 "nbformat": 4,
 "nbformat_minor": 2
}
